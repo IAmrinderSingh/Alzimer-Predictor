{
 "cells": [
  {
   "cell_type": "code",
   "execution_count": 1,
   "metadata": {},
   "outputs": [
    {
     "name": "stdout",
     "output_type": "stream",
     "text": [
      "1/1 [==============================] - 0s 366ms/step\n",
      "Mild Demented\n"
     ]
    }
   ],
   "source": [
    "import cv2\n",
    "import tensorflow as tf\n",
    "from tensorflow.keras.preprocessing import image\n",
    "from tensorflow.keras import models\n",
    "import numpy as np\n",
    "model = tf.keras.models.load_model('alzheimers.h5',compile=False)\n",
    "\n",
    "img=cv2.imread(r'C:\\Users\\Amar Singh\\Desktop\\ffp\\Upload\\1.jpg')\n",
    "img=cv2.resize(img,(150,150))\n",
    "img_array=np.array(img)\n",
    "# img_array.shape\n",
    "\n",
    "img_array=img_array.reshape(1,150,150,3)\n",
    "# img_array.shape\n",
    "\n",
    "a=model.predict(img_array)\n",
    "indices=a.argmax()\n",
    "if indices==0:\n",
    "    print(\"Mild Demented\")\n",
    "elif indices==1:\n",
    "    print(\"Moderate Demented\")\n",
    "elif indices==2:\n",
    "    print(\"Non Demented\")\n",
    "else:\n",
    "    print(\"Very Mild Demented\")"
   ]
  },
  {
   "cell_type": "code",
   "execution_count": null,
   "metadata": {},
   "outputs": [],
   "source": []
  }
 ],
 "metadata": {
  "kernelspec": {
   "display_name": "Python 3.10.2 64-bit",
   "language": "python",
   "name": "python3"
  },
  "language_info": {
   "codemirror_mode": {
    "name": "ipython",
    "version": 3
   },
   "file_extension": ".py",
   "mimetype": "text/x-python",
   "name": "python",
   "nbconvert_exporter": "python",
   "pygments_lexer": "ipython3",
   "version": "3.10.2"
  },
  "orig_nbformat": 4,
  "vscode": {
   "interpreter": {
    "hash": "c53e25195db09e6459e6e35336cfe13d857b498223d52cd8f3a9a54f5b55367e"
   }
  }
 },
 "nbformat": 4,
 "nbformat_minor": 2
}
